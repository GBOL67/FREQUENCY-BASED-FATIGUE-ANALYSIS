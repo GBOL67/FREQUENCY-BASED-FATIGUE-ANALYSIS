{
 "cells": [
  {
   "cell_type": "markdown",
   "id": "0d4bfd3b-f8ca-4424-b9b6-4064ae88458c",
   "metadata": {},
   "source": [
    "# Data Science Tools And Ecosystem"
   ]
  },
  {
   "cell_type": "markdown",
   "id": "541b637b-a27b-4e24-88d9-7d97ed2a2932",
   "metadata": {},
   "source": [
    "Data science tools are instruments used to process and analysis data. Data science tools are categorized based on data processing steps. The tools are;\n",
    "- DATA MANAGEMENT (Process of persisting and retrieving data)\n",
    "- DATA INTEGRATION (extract, transform and load data)\n",
    "- DATA VISUALIZATION\n",
    "- MODEL BUILDING (creating ML or DL models using algorithm)\n",
    "- MODEL DEPLOYMENT (make ML models available to third party)\n",
    "- MODEL MONITORING AND ASSESSMENT (tracking prediction performance)\n",
    "- CODE ASSET MANAGEMENT\n",
    "- DEVELOPMENT ENVIRONMENT\n",
    "- EXECUTION ENVIRONMENT (tools where data processing, model training and development take place)"
   ]
  },
  {
   "cell_type": "markdown",
   "id": "e6103c13-c0b0-4fd1-8b1e-c2144145d44a",
   "metadata": {},
   "source": [
    "Some of the popular languages that Data Scientists use are:\n",
    "\n",
    "- PYTHON\n",
    "- C++\n",
    "- JAVASCRIPT\n",
    "- R \n",
    "    -"
   ]
  },
  {
   "cell_type": "markdown",
   "id": "a067a9df-9b70-47c7-9769-c0223bba1666",
   "metadata": {},
   "source": [
    "Some of the commonly used libraries used by Data Scientists include:\n",
    "- PANDAS\n",
    "- NUMPY\n",
    "- MATPLOTLIB\n",
    "- VEGAS\n",
    "- BIGDL"
   ]
  },
  {
   "cell_type": "markdown",
   "id": "2433340f-7313-4593-9575-75b739156b2b",
   "metadata": {},
   "source": [
    "|Data Science Tools|\n",
    "|------------------|\n",
    "|JUPYTER|\n",
    "|R STUDIO|\n",
    "|SPYDER|\n"
   ]
  },
  {
   "cell_type": "markdown",
   "id": "5710d13c-2c6a-48c2-bc1b-f86fe0b79dd4",
   "metadata": {},
   "source": [
    "### Below are a few examples of evaluating arithmetic expressions in Python\n",
    "- Arithmetic expressions. example 30/6.\n",
    "- Relational expressions. Example (a+b)>=(c∗d).\n",
    "-  Logical expressions. Example (a<b)∣∣(c==d)."
   ]
  },
  {
   "cell_type": "code",
   "execution_count": 3,
   "id": "0784b3ad-d4cd-45a7-8f7e-b3fd222fd128",
   "metadata": {},
   "outputs": [
    {
     "name": "stdout",
     "output_type": "stream",
     "text": [
      "17\n"
     ]
    }
   ],
   "source": [
    "# This a simple arithmetic expression to mutiply then add integers\n",
    "print((3*4)+5)"
   ]
  },
  {
   "cell_type": "code",
   "execution_count": 7,
   "id": "3368a82a-4f75-425a-ad2f-4c1401a82412",
   "metadata": {},
   "outputs": [
    {
     "name": "stdout",
     "output_type": "stream",
     "text": [
      "3.3333333333333335\n"
     ]
    }
   ],
   "source": [
    "#This will convert 200 minutes to hours by diving by 60\n",
    "print (200/60)"
   ]
  },
  {
   "cell_type": "markdown",
   "id": "7964fb7d-1a79-4cc2-8c36-dfe26e591482",
   "metadata": {},
   "source": [
    "__OBJECTIVES:__\n",
    "- LIST DIFFERENT LANGUAGES USED IN DATA SCIENCE\n",
    "- LIST DIFFERENT TOOLS USED IN DATA SCIENCE\n",
    "- LIST DIFFERENT LIBRARIES USED IN DATA SCIENCE\n",
    "- DEFINE DATA SETS\n",
    "- TASKS TO TRA"
   ]
  },
  {
   "cell_type": "code",
   "execution_count": null,
   "id": "8b415317-042d-48e8-a508-0ae473401b2d",
   "metadata": {},
   "outputs": [],
   "source": []
  }
 ],
 "metadata": {
  "kernelspec": {
   "display_name": "Python",
   "language": "python",
   "name": "conda-env-python-py"
  },
  "language_info": {
   "codemirror_mode": {
    "name": "ipython",
    "version": 3
   },
   "file_extension": ".py",
   "mimetype": "text/x-python",
   "name": "python",
   "nbconvert_exporter": "python",
   "pygments_lexer": "ipython3",
   "version": "3.7.12"
  }
 },
 "nbformat": 4,
 "nbformat_minor": 5
}
